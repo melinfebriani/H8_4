{
 "cells": [
  {
   "cell_type": "markdown",
   "source": [
    "# Python Code"
   ],
   "metadata": {}
  },
  {
   "cell_type": "code",
   "execution_count": 3,
   "source": [
    "print(\"Hello World\")"
   ],
   "outputs": [
    {
     "output_type": "stream",
     "name": "stdout",
     "text": [
      "Hello\n"
     ]
    }
   ],
   "metadata": {}
  },
  {
   "cell_type": "markdown",
   "source": [
    "## Integers"
   ],
   "metadata": {}
  },
  {
   "cell_type": "code",
   "execution_count": 1,
   "source": [
    "print(10)\r\n",
    "print(type(10))"
   ],
   "outputs": [
    {
     "output_type": "stream",
     "name": "stdout",
     "text": [
      "10\n",
      "<class 'int'>\n"
     ]
    }
   ],
   "metadata": {}
  },
  {
   "cell_type": "markdown",
   "source": [
    "## Floating-Point Numbers"
   ],
   "metadata": {}
  },
  {
   "cell_type": "code",
   "execution_count": 2,
   "source": [
    "print(4.2)\r\n",
    "print(type(4.2))\r\n",
    "\r\n",
    "print(4.)\r\n",
    "\r\n",
    "print(.2)\r\n",
    "\r\n",
    "print(.4e7)\r\n",
    "\r\n",
    "print(4.2e-4)\r\n"
   ],
   "outputs": [
    {
     "output_type": "stream",
     "name": "stdout",
     "text": [
      "4.2\n",
      "<class 'float'>\n",
      "4.0\n",
      "0.2\n",
      "4000000.0\n",
      "0.00042\n"
     ]
    }
   ],
   "metadata": {}
  },
  {
   "cell_type": "markdown",
   "source": [
    "## String"
   ],
   "metadata": {}
  },
  {
   "cell_type": "code",
   "execution_count": 5,
   "source": [
    "print(\"Hacktiv8\")\r\n",
    "print(type(\"Hacktiv8\"))"
   ],
   "outputs": [
    {
     "output_type": "stream",
     "name": "stdout",
     "text": [
      "Hacktiv8\n",
      "<class 'str'>\n"
     ]
    }
   ],
   "metadata": {}
  },
  {
   "cell_type": "code",
   "execution_count": 6,
   "source": [
    "print('') # String kosong"
   ],
   "outputs": [
    {
     "output_type": "stream",
     "name": "stdout",
     "text": [
      "\n"
     ]
    }
   ],
   "metadata": {}
  },
  {
   "cell_type": "code",
   "execution_count": 7,
   "source": [
    "print(\"This is string contains a single quote (') character.\")\r\n",
    "print('This is string contains a double quote (\") character.')"
   ],
   "outputs": [
    {
     "output_type": "stream",
     "name": "stdout",
     "text": [
      "This is string contains a single quote (') character.\n",
      "This is string contains a double quote (\") character.\n"
     ]
    }
   ],
   "metadata": {}
  },
  {
   "cell_type": "markdown",
   "source": [
    "## Boolean Type, Boolean Context, and \"Truthiness\""
   ],
   "metadata": {}
  },
  {
   "cell_type": "code",
   "execution_count": 8,
   "source": [
    "print(type(True))\r\n",
    "print(type(False))"
   ],
   "outputs": [
    {
     "output_type": "stream",
     "name": "stdout",
     "text": [
      "<class 'bool'>\n",
      "<class 'bool'>\n"
     ]
    }
   ],
   "metadata": {}
  },
  {
   "cell_type": "markdown",
   "source": [
    "## Variable Assignment"
   ],
   "metadata": {}
  },
  {
   "cell_type": "code",
   "execution_count": 13,
   "source": [
    "n = 300\r\n",
    "print(n)"
   ],
   "outputs": [
    {
     "output_type": "stream",
     "name": "stdout",
     "text": [
      "300\n"
     ]
    }
   ],
   "metadata": {}
  },
  {
   "cell_type": "code",
   "execution_count": 12,
   "source": [
    "n"
   ],
   "outputs": [
    {
     "output_type": "execute_result",
     "data": {
      "text/plain": [
       "300"
      ]
     },
     "metadata": {},
     "execution_count": 12
    }
   ],
   "metadata": {}
  },
  {
   "cell_type": "code",
   "execution_count": 15,
   "source": [
    "n = 1000\r\n",
    "print(n)\r\n",
    "n"
   ],
   "outputs": [
    {
     "output_type": "stream",
     "name": "stdout",
     "text": [
      "1000\n"
     ]
    },
    {
     "output_type": "execute_result",
     "data": {
      "text/plain": [
       "1000"
      ]
     },
     "metadata": {},
     "execution_count": 15
    }
   ],
   "metadata": {}
  },
  {
   "cell_type": "code",
   "execution_count": 18,
   "source": [
    "a = b = c = 300\r\n",
    "print(a, b, c)"
   ],
   "outputs": [
    {
     "output_type": "stream",
     "name": "stdout",
     "text": [
      "300 300 300\n"
     ]
    }
   ],
   "metadata": {}
  },
  {
   "cell_type": "markdown",
   "source": [
    "## Variable Types in Python"
   ],
   "metadata": {}
  },
  {
   "cell_type": "code",
   "execution_count": 19,
   "source": [
    "var = 23.5\r\n",
    "print(var)\r\n",
    "\r\n",
    "var = \"Now I'm a string\"\r\n",
    "print(var)"
   ],
   "outputs": [
    {
     "output_type": "stream",
     "name": "stdout",
     "text": [
      "23.5\n",
      "Now I'm a string\n"
     ]
    }
   ],
   "metadata": {}
  },
  {
   "cell_type": "markdown",
   "source": [
    "## Variables Names"
   ],
   "metadata": {}
  },
  {
   "cell_type": "code",
   "execution_count": 20,
   "source": [
    "name = \"Hacktiv8\"\r\n",
    "Age = 54\r\n",
    "has_laptops = True\r\n",
    "print(name, Age, has_laptops)"
   ],
   "outputs": [
    {
     "output_type": "stream",
     "name": "stdout",
     "text": [
      "Hacktiv8 54 True\n"
     ]
    }
   ],
   "metadata": {}
  },
  {
   "cell_type": "code",
   "execution_count": 93,
   "source": [
    "# Tidak boleh dimulai dengan angka\r\n",
    "\r\n",
    "# error\r\n",
    "# 9_kepala_naga = True "
   ],
   "outputs": [],
   "metadata": {}
  },
  {
   "cell_type": "code",
   "execution_count": 24,
   "source": [
    "age = 1\r\n",
    "Age = 2\r\n",
    "aGe = 3\r\n",
    "AGE = 4\r\n",
    "a_g_e = 5\r\n",
    "_age = 6\r\n",
    "age_ = 7\r\n",
    "_AGE_ = 8\r\n",
    "\r\n",
    "print(age, Age, aGe, AGE, a_g_e, _age, age_, _AGE_)"
   ],
   "outputs": [
    {
     "output_type": "stream",
     "name": "stdout",
     "text": [
      "1 2 3 4 5 6 7 8\n"
     ]
    }
   ],
   "metadata": {}
  },
  {
   "cell_type": "markdown",
   "source": [
    "## Operators and Expressions in Python"
   ],
   "metadata": {}
  },
  {
   "cell_type": "code",
   "execution_count": 25,
   "source": [
    "a = 10\r\n",
    "b = 20\r\n",
    "a + b"
   ],
   "outputs": [
    {
     "output_type": "execute_result",
     "data": {
      "text/plain": [
       "30"
      ]
     },
     "metadata": {},
     "execution_count": 25
    }
   ],
   "metadata": {}
  },
  {
   "cell_type": "code",
   "execution_count": 26,
   "source": [
    "a = 10\r\n",
    "b = 20\r\n",
    "a + b - 5"
   ],
   "outputs": [
    {
     "output_type": "execute_result",
     "data": {
      "text/plain": [
       "25"
      ]
     },
     "metadata": {},
     "execution_count": 26
    }
   ],
   "metadata": {}
  },
  {
   "cell_type": "markdown",
   "source": [
    "## Arithmetic Operators"
   ],
   "metadata": {}
  },
  {
   "cell_type": "code",
   "execution_count": 27,
   "source": [
    "a = 4\r\n",
    "b = 3\r\n",
    "\r\n",
    "print(a + b)\r\n",
    "print(a - b)\r\n",
    "print(a * b)\r\n",
    "print(a / b)\r\n",
    "print(a % b)\r\n",
    "print(a ** b)"
   ],
   "outputs": [
    {
     "output_type": "stream",
     "name": "stdout",
     "text": [
      "7\n",
      "1\n",
      "12\n",
      "1.3333333333333333\n",
      "1\n",
      "64\n"
     ]
    }
   ],
   "metadata": {}
  },
  {
   "cell_type": "code",
   "execution_count": 28,
   "source": [
    "10 / 5"
   ],
   "outputs": [
    {
     "output_type": "execute_result",
     "data": {
      "text/plain": [
       "2.0"
      ]
     },
     "metadata": {},
     "execution_count": 28
    }
   ],
   "metadata": {}
  },
  {
   "cell_type": "markdown",
   "source": [
    "## Comparison Operators"
   ],
   "metadata": {}
  },
  {
   "cell_type": "code",
   "execution_count": 30,
   "source": [
    "a = 10\r\n",
    "b = 20\r\n",
    "print(a == b)\r\n",
    "print(a != b)\r\n",
    "print(a <= b)\r\n",
    "print(a >= b)\r\n",
    "\r\n",
    "a = 30\r\n",
    "b = 30\r\n",
    "print(a == b)\r\n",
    "print(a <= b)\r\n",
    "print(a >= b)"
   ],
   "outputs": [
    {
     "output_type": "stream",
     "name": "stdout",
     "text": [
      "False\n",
      "True\n",
      "True\n",
      "False\n",
      "True\n",
      "True\n",
      "True\n"
     ]
    }
   ],
   "metadata": {}
  },
  {
   "cell_type": "markdown",
   "source": [
    "## String Manipulation"
   ],
   "metadata": {}
  },
  {
   "cell_type": "code",
   "execution_count": 32,
   "source": [
    "# + Operators\r\n",
    "s = 'foo'\r\n",
    "t = 'bar'\r\n",
    "u = 'baz'\r\n",
    "\r\n",
    "print(s + t)\r\n",
    "print(s + t + u)\r\n",
    "print('Hacktiv8 ' + 'PTP')"
   ],
   "outputs": [
    {
     "output_type": "stream",
     "name": "stdout",
     "text": [
      "foobar\n",
      "foobarbaz\n",
      "Hacktiv8 PTP\n"
     ]
    }
   ],
   "metadata": {}
  },
  {
   "cell_type": "code",
   "execution_count": 33,
   "source": [
    "# * Operators\r\n",
    "s = 'foo.'\r\n",
    "s * 4"
   ],
   "outputs": [
    {
     "output_type": "execute_result",
     "data": {
      "text/plain": [
       "'foo.foo.foo.foo.'"
      ]
     },
     "metadata": {},
     "execution_count": 33
    }
   ],
   "metadata": {}
  },
  {
   "cell_type": "code",
   "execution_count": 37,
   "source": [
    "# in Operators\r\n",
    "s = 'foo'\r\n",
    "print(s in 'That food for us')\r\n",
    "print(s in 'That good for us')"
   ],
   "outputs": [
    {
     "output_type": "stream",
     "name": "stdout",
     "text": [
      "True\n",
      "False\n"
     ]
    }
   ],
   "metadata": {}
  },
  {
   "cell_type": "code",
   "execution_count": 39,
   "source": [
    "# Case Conversion\r\n",
    "s = 'HackTIV8'\r\n",
    "\r\n",
    "# Capitalize\r\n",
    "print(s.capitalize())\r\n",
    "\r\n",
    "# Lower\r\n",
    "print(s.lower())\r\n",
    "\r\n",
    "# Swapcase\r\n",
    "print(s.swapcase())\r\n",
    "\r\n",
    "# Title\r\n",
    "print(s.title())\r\n",
    "\r\n",
    "# Uppercase\r\n",
    "print(s.upper())"
   ],
   "outputs": [
    {
     "output_type": "stream",
     "name": "stdout",
     "text": [
      "Hacktiv8\n",
      "hacktiv8\n",
      "hACKtiv8\n",
      "Hacktiv8\n",
      "HACKTIV8\n"
     ]
    }
   ],
   "metadata": {}
  },
  {
   "cell_type": "markdown",
   "source": [
    "## Python Lists"
   ],
   "metadata": {}
  },
  {
   "cell_type": "code",
   "execution_count": 40,
   "source": [
    "a = ['foo', 'bar', 'baz', 'qux']\r\n",
    "print(a)"
   ],
   "outputs": [
    {
     "output_type": "stream",
     "name": "stdout",
     "text": [
      "['foo', 'bar', 'baz', 'qux']\n"
     ]
    }
   ],
   "metadata": {}
  },
  {
   "cell_type": "markdown",
   "source": [
    "## List Are Ordered"
   ],
   "metadata": {}
  },
  {
   "cell_type": "code",
   "execution_count": 41,
   "source": [
    "a = ['foo', 'bar', 'baz', 'qux']\r\n",
    "b = ['baz', 'qux', 'bar', 'foo']\r\n",
    "\r\n",
    "a == b"
   ],
   "outputs": [
    {
     "output_type": "execute_result",
     "data": {
      "text/plain": [
       "False"
      ]
     },
     "metadata": {},
     "execution_count": 41
    }
   ],
   "metadata": {}
  },
  {
   "cell_type": "markdown",
   "source": [
    "## List Can Contain Arbitrary Objects"
   ],
   "metadata": {}
  },
  {
   "cell_type": "code",
   "execution_count": 42,
   "source": [
    "a = [21.42, 'foobar', 3, 4, 'bark', False, 3.14159]\r\n",
    "print(a)"
   ],
   "outputs": [
    {
     "output_type": "stream",
     "name": "stdout",
     "text": [
      "[21.42, 'foobar', 3, 4, 'bark', False, 3.14159]\n"
     ]
    }
   ],
   "metadata": {}
  },
  {
   "cell_type": "markdown",
   "source": [
    "## List Elements Can Be Accessed by Index"
   ],
   "metadata": {}
  },
  {
   "cell_type": "code",
   "execution_count": 43,
   "source": [
    "a = ['foo', 'bar', 'baz', 'quz', 'quux', 'corge']\r\n",
    "print(a[0])\r\n",
    "print(a[5])"
   ],
   "outputs": [
    {
     "output_type": "stream",
     "name": "stdout",
     "text": [
      "foo\n",
      "corge\n"
     ]
    }
   ],
   "metadata": {}
  },
  {
   "cell_type": "code",
   "execution_count": 44,
   "source": [
    "print(a[-1])\r\n",
    "print(a[-6])"
   ],
   "outputs": [
    {
     "output_type": "stream",
     "name": "stdout",
     "text": [
      "corge\n",
      "foo\n"
     ]
    }
   ],
   "metadata": {}
  },
  {
   "cell_type": "code",
   "execution_count": 45,
   "source": [
    "a = ['foo', 'bar', 'baz', 'quz', 'quux', 'corge']\r\n",
    "a[2:5]"
   ],
   "outputs": [
    {
     "output_type": "execute_result",
     "data": {
      "text/plain": [
       "['baz', 'quz', 'quux']"
      ]
     },
     "metadata": {},
     "execution_count": 45
    }
   ],
   "metadata": {}
  },
  {
   "cell_type": "code",
   "execution_count": 46,
   "source": [
    "# The concatenation (+) and replication (*) operators:\r\n",
    "print(a)\r\n",
    "\r\n",
    "print(a + ['grault', 'garply'])\r\n",
    "print(a * 2)"
   ],
   "outputs": [
    {
     "output_type": "stream",
     "name": "stdout",
     "text": [
      "['foo', 'bar', 'baz', 'quz', 'quux', 'corge']\n",
      "['foo', 'bar', 'baz', 'quz', 'quux', 'corge', 'grault', 'garply']\n",
      "['foo', 'bar', 'baz', 'quz', 'quux', 'corge', 'foo', 'bar', 'baz', 'quz', 'quux', 'corge']\n"
     ]
    }
   ],
   "metadata": {}
  },
  {
   "cell_type": "code",
   "execution_count": 47,
   "source": [
    "# len(), min(), max()\r\n",
    "print(a)\r\n",
    "\r\n",
    "print(len(a))\r\n",
    "print(min(a))\r\n",
    "print(max(a))"
   ],
   "outputs": [
    {
     "output_type": "stream",
     "name": "stdout",
     "text": [
      "['foo', 'bar', 'baz', 'quz', 'quux', 'corge']\n",
      "6\n",
      "bar\n",
      "quz\n"
     ]
    }
   ],
   "metadata": {}
  },
  {
   "cell_type": "markdown",
   "source": [
    "## Modifying a Single List Value"
   ],
   "metadata": {}
  },
  {
   "cell_type": "code",
   "execution_count": 48,
   "source": [
    "a = ['foo', 'bar', 'baz', 'quz', 'quux', 'corge']\r\n",
    "\r\n",
    "print(a)\r\n",
    "\r\n",
    "a[2] = 10\r\n",
    "a[-1] = 20\r\n",
    "\r\n",
    "print(a)"
   ],
   "outputs": [
    {
     "output_type": "stream",
     "name": "stdout",
     "text": [
      "['foo', 'bar', 'baz', 'quz', 'quux', 'corge']\n",
      "['foo', 'bar', 10, 'quz', 'quux', 20]\n"
     ]
    }
   ],
   "metadata": {}
  },
  {
   "cell_type": "code",
   "execution_count": 50,
   "source": [
    "# A list item can be deleted with the del command:\r\n",
    "print(a)\r\n",
    "\r\n",
    "del a[3]\r\n",
    "print(a)"
   ],
   "outputs": [
    {
     "output_type": "stream",
     "name": "stdout",
     "text": [
      "['foo', 'bar', 10, 'quux', 20]\n",
      "['foo', 'bar', 10, 20]\n"
     ]
    }
   ],
   "metadata": {}
  },
  {
   "cell_type": "markdown",
   "source": [
    "## Modifying Multiple List Values"
   ],
   "metadata": {}
  },
  {
   "cell_type": "code",
   "execution_count": 53,
   "source": [
    "a = ['foo', 'bar', 'baz', 'quz', 'quux', 'corge']\r\n",
    "print(a)\r\n",
    "\r\n",
    "print(a[1:4])\r\n",
    "\r\n",
    "a[1:4] = [1.1, 2.2, 3.3, 4.4, 5.5]\r\n",
    "print(a)\r\n",
    "\r\n",
    "a[1:4] = ['a', 'b']\r\n",
    "print(a)"
   ],
   "outputs": [
    {
     "output_type": "stream",
     "name": "stdout",
     "text": [
      "['foo', 'bar', 'baz', 'quz', 'quux', 'corge']\n",
      "['bar', 'baz', 'quz']\n",
      "['foo', 1.1, 2.2, 3.3, 4.4, 5.5, 'quux', 'corge']\n",
      "['foo', 'a', 'b', 4.4, 5.5, 'quux', 'corge']\n"
     ]
    }
   ],
   "metadata": {}
  },
  {
   "cell_type": "markdown",
   "source": [
    "## Python Tuples"
   ],
   "metadata": {}
  },
  {
   "cell_type": "code",
   "execution_count": 54,
   "source": [
    "t = ('foo', 'bar', 'baz', 'qux', 'quux', 'corge')\r\n",
    "print(t)"
   ],
   "outputs": [
    {
     "output_type": "stream",
     "name": "stdout",
     "text": [
      "('foo', 'bar', 'baz', 'qux', 'quux', 'corge')\n"
     ]
    }
   ],
   "metadata": {}
  },
  {
   "cell_type": "code",
   "execution_count": 55,
   "source": [
    "print(t[0])\r\n",
    "print(t[-1])"
   ],
   "outputs": [
    {
     "output_type": "stream",
     "name": "stdout",
     "text": [
      "foo\n",
      "corge\n"
     ]
    }
   ],
   "metadata": {}
  },
  {
   "cell_type": "code",
   "execution_count": 92,
   "source": [
    "t = ('foo', 'bar', 'baz', 'qux', 'quux', 'corge')\r\n",
    "print(t)\r\n",
    "\r\n",
    "# error\r\n",
    "# t[0] = 'abc'"
   ],
   "outputs": [
    {
     "output_type": "stream",
     "name": "stdout",
     "text": [
      "('foo', 'bar', 'baz', 'qux', 'quux', 'corge')\n"
     ]
    }
   ],
   "metadata": {}
  },
  {
   "cell_type": "code",
   "execution_count": 60,
   "source": [
    "# packing and unpacking\r\n",
    "(s1, s2, s3, s4) = ('foo', 'bar', 'baz', 'quz')\r\n",
    "\r\n",
    "s1"
   ],
   "outputs": [
    {
     "output_type": "execute_result",
     "data": {
      "text/plain": [
       "'foo'"
      ]
     },
     "metadata": {},
     "execution_count": 60
    }
   ],
   "metadata": {}
  },
  {
   "cell_type": "markdown",
   "source": [
    "## Python Dictionary"
   ],
   "metadata": {}
  },
  {
   "cell_type": "code",
   "execution_count": 71,
   "source": [
    "MLB_team = {\r\n",
    "    'Colorado' : 'Rockies',\r\n",
    "    'Boston' : 'Red Sox',\r\n",
    "    'Minnesota' : 'Twins',\r\n",
    "    'Milwaukee' : 'Brewers',\r\n",
    "    'Seattle' : 'Mariners'\r\n",
    "}\r\n",
    "\r\n",
    "print(MLB_team['Minnesota'])\r\n",
    "print(MLB_team['Colorado'])\r\n",
    "\r\n",
    "# error\r\n",
    "# MLB_team['Toronto]"
   ],
   "outputs": [
    {
     "output_type": "stream",
     "name": "stdout",
     "text": [
      "Twins\n",
      "Rockies\n"
     ]
    }
   ],
   "metadata": {}
  },
  {
   "cell_type": "code",
   "execution_count": 72,
   "source": [
    "# Adding an entry to an existing dictionary is simply a matter of assigning a new key and value:\r\n",
    "\r\n",
    "MLB_team['Kansas City'] = 'Royals'\r\n",
    "MLB_team"
   ],
   "outputs": [
    {
     "output_type": "execute_result",
     "data": {
      "text/plain": [
       "{'Colorado': 'Rockies',\n",
       " 'Boston': 'Red Sox',\n",
       " 'Minnesota': 'Twins',\n",
       " 'Milwaukee': 'Brewers',\n",
       " 'Seattle': 'Mariners',\n",
       " 'Kansas City': 'Royals'}"
      ]
     },
     "metadata": {},
     "execution_count": 72
    }
   ],
   "metadata": {}
  },
  {
   "cell_type": "code",
   "execution_count": 73,
   "source": [
    "# If you want to update an entry, you can just assign a new value to an existing key:\r\n",
    "\r\n",
    "MLB_team['Seattle'] = 'Seahawks'\r\n",
    "MLB_team"
   ],
   "outputs": [
    {
     "output_type": "execute_result",
     "data": {
      "text/plain": [
       "{'Colorado': 'Rockies',\n",
       " 'Boston': 'Red Sox',\n",
       " 'Minnesota': 'Twins',\n",
       " 'Milwaukee': 'Brewers',\n",
       " 'Seattle': 'Seahawks',\n",
       " 'Kansas City': 'Royals'}"
      ]
     },
     "metadata": {},
     "execution_count": 73
    }
   ],
   "metadata": {}
  },
  {
   "cell_type": "code",
   "execution_count": 74,
   "source": [
    "# To delete an entry, use del statement, specifying the key to delete:\r\n",
    "\r\n",
    "del MLB_team['Seattle']\r\n",
    "MLB_team"
   ],
   "outputs": [
    {
     "output_type": "execute_result",
     "data": {
      "text/plain": [
       "{'Colorado': 'Rockies',\n",
       " 'Boston': 'Red Sox',\n",
       " 'Minnesota': 'Twins',\n",
       " 'Milwaukee': 'Brewers',\n",
       " 'Kansas City': 'Royals'}"
      ]
     },
     "metadata": {},
     "execution_count": 74
    }
   ],
   "metadata": {}
  },
  {
   "cell_type": "markdown",
   "source": [
    "## Building a Dictionary Incrementally"
   ],
   "metadata": {}
  },
  {
   "cell_type": "code",
   "execution_count": 85,
   "source": [
    "person = {}\r\n",
    "print(type(person))\r\n",
    "\r\n",
    "person['fname'] = 'Hack'\r\n",
    "person['lname'] = 'PTP'\r\n",
    "person['age'] = 51\r\n",
    "person['spouse'] = 'Edna'\r\n",
    "person['children'] = ['Ralph', 'Betty', 'Joey']\r\n",
    "person['pets'] = {'dog' : 'Fido', 'cat' : 'sox'}"
   ],
   "outputs": [
    {
     "output_type": "stream",
     "name": "stdout",
     "text": [
      "<class 'dict'>\n"
     ]
    }
   ],
   "metadata": {}
  },
  {
   "cell_type": "code",
   "execution_count": 77,
   "source": [
    "person"
   ],
   "outputs": [
    {
     "output_type": "execute_result",
     "data": {
      "text/plain": [
       "{'fname': 'Hack',\n",
       " 'lname': 'PTP',\n",
       " 'age': 51,\n",
       " 'spouse': 'Edna',\n",
       " 'children': ['Ralph', 'Betty', 'Joey'],\n",
       " 'pets': {'dog': 'Fido', 'cat': 'sox'}}"
      ]
     },
     "metadata": {},
     "execution_count": 77
    }
   ],
   "metadata": {}
  },
  {
   "cell_type": "code",
   "execution_count": 78,
   "source": [
    "print(person['fname'])\r\n",
    "print(person['lname'])"
   ],
   "outputs": [
    {
     "output_type": "stream",
     "name": "stdout",
     "text": [
      "Hack\n",
      "PTP\n"
     ]
    }
   ],
   "metadata": {}
  },
  {
   "cell_type": "code",
   "execution_count": 79,
   "source": [
    "print(person['children'])\r\n",
    "print(person['children'][1])"
   ],
   "outputs": [
    {
     "output_type": "stream",
     "name": "stdout",
     "text": [
      "['Ralph', 'Betty', 'Joey']\n",
      "Betty\n"
     ]
    }
   ],
   "metadata": {}
  },
  {
   "cell_type": "code",
   "execution_count": 84,
   "source": [
    "print(person['pets'])\r\n",
    "print(person['pets']['cat'])"
   ],
   "outputs": [
    {
     "output_type": "stream",
     "name": "stdout",
     "text": [
      "{'dog': 'Fido', 'cat': 'sox'}\n",
      "sox\n"
     ]
    }
   ],
   "metadata": {}
  },
  {
   "cell_type": "code",
   "execution_count": 88,
   "source": [
    "# Built-in Methods\r\n",
    "d = {'a' : 10, 'b' : 20, 'c' : 30}\r\n",
    "\r\n",
    "# items\r\n",
    "print(d.items())\r\n",
    "\r\n",
    "# keys\r\n",
    "print(d.keys())\r\n",
    "\r\n",
    "# values\r\n",
    "print(d.values())"
   ],
   "outputs": [
    {
     "output_type": "stream",
     "name": "stdout",
     "text": [
      "dict_items([('a', 10), ('b', 20), ('c', 30)])\n",
      "dict_keys(['a', 'b', 'c'])\n",
      "dict_values([10, 20, 30])\n"
     ]
    }
   ],
   "metadata": {}
  },
  {
   "cell_type": "markdown",
   "source": [
    "## Line Continuatuin"
   ],
   "metadata": {}
  },
  {
   "cell_type": "code",
   "execution_count": 89,
   "source": [
    "person1_age = 42\r\n",
    "person2_age = 16\r\n",
    "person3_age = 71\r\n",
    "\r\n",
    "someone_is_of_working_age = (person1_age >= 18 and person1_age <= 65) or (person2_age >= 18 and person2_age <= 65) or (person3_age >= 18 and person3_age <= 65)\r\n",
    "someone_is_of_working_age"
   ],
   "outputs": [
    {
     "output_type": "execute_result",
     "data": {
      "text/plain": [
       "True"
      ]
     },
     "metadata": {},
     "execution_count": 89
    }
   ],
   "metadata": {}
  },
  {
   "cell_type": "code",
   "execution_count": 91,
   "source": [
    "someone_is_of_working_age = (\r\n",
    "    (person1_age >= 18 and person1_age <= 65) \r\n",
    "    or (person2_age >= 18 and person2_age <= 65) \r\n",
    "    or (person3_age >= 18 and person3_age <= 65)\r\n",
    ")\r\n",
    "someone_is_of_working_age"
   ],
   "outputs": [
    {
     "output_type": "execute_result",
     "data": {
      "text/plain": [
       "True"
      ]
     },
     "metadata": {},
     "execution_count": 91
    }
   ],
   "metadata": {}
  }
 ],
 "metadata": {
  "orig_nbformat": 4,
  "language_info": {
   "name": "python",
   "version": "3.9.13",
   "mimetype": "text/x-python",
   "codemirror_mode": {
    "name": "ipython",
    "version": 3
   },
   "pygments_lexer": "ipython3",
   "nbconvert_exporter": "python",
   "file_extension": ".py"
  },
  "kernelspec": {
   "name": "python3",
   "display_name": "Python 3.9.13 64-bit ('base': conda)"
  },
  "interpreter": {
   "hash": "fe6d48a06cf1965613c5c4b5d21b1182ca2e59212f354219b1b23c436410da45"
  }
 },
 "nbformat": 4,
 "nbformat_minor": 2
}