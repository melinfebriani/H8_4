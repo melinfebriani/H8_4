{
 "cells": [
  {
   "cell_type": "markdown",
   "source": [
    "# Conditional"
   ],
   "metadata": {}
  },
  {
   "cell_type": "code",
   "execution_count": 27,
   "source": [
    "x = 0\r\n",
    "y = 5\r\n",
    "\r\n",
    "if x < y:\r\n",
    "    print('yes')\r\n",
    "\r\n",
    "if y < x:\r\n",
    "    print('yes')\r\n",
    "\r\n",
    "if x:\r\n",
    "    print('yes')\r\n",
    "\r\n",
    "if y:\r\n",
    "    print('yes')\r\n",
    "\r\n",
    "if 'aul' in 'grault':\r\n",
    "    print('yes')\r\n",
    "\r\n",
    "if 'quux' in ['foo', 'bar', 'baz']:\r\n",
    "    print('yes')"
   ],
   "outputs": [
    {
     "output_type": "stream",
     "name": "stdout",
     "text": [
      "yes\n",
      "yes\n",
      "yes\n"
     ]
    }
   ],
   "metadata": {}
  },
  {
   "cell_type": "markdown",
   "source": [
    "## Identation and Blocks"
   ],
   "metadata": {}
  },
  {
   "cell_type": "code",
   "execution_count": 28,
   "source": [
    "if 'foo' in ['bar', 'baz', 'qux']:\r\n",
    "    print('Expression was true')\r\n",
    "    print('Executing statement in suite')\r\n",
    "    print('...')\r\n",
    "    print('Done.')\r\n",
    "\r\n",
    "print('After conditional')"
   ],
   "outputs": [
    {
     "output_type": "stream",
     "name": "stdout",
     "text": [
      "After conditional\n"
     ]
    }
   ],
   "metadata": {}
  },
  {
   "cell_type": "code",
   "execution_count": 29,
   "source": [
    "# Does line execute?                     Yes     No\r\n",
    "#                                        ---     --\r\n",
    "if 'foo' in ['foo', 'bar', 'baz']:      # x\r\n",
    "    print('Outer condition is true')    # x\r\n",
    "\r\n",
    "    if 10 > 20:                         # x\r\n",
    "        print('Inner condition 1')      #        x\r\n",
    "\r\n",
    "    print('Between inner conditions')   # x\r\n",
    "\r\n",
    "    if 10 < 20:                         # x\r\n",
    "        print('Inner consition 2')      # x\r\n",
    "\r\n",
    "    print('End of outer condition')     # x\r\n",
    "print('After outer condition')          # x"
   ],
   "outputs": [
    {
     "output_type": "stream",
     "name": "stdout",
     "text": [
      "Outer condition is true\n",
      "Between inner conditions\n",
      "Inner consition 2\n",
      "End of outer condition\n",
      "After outer condition\n"
     ]
    }
   ],
   "metadata": {}
  },
  {
   "cell_type": "markdown",
   "source": [
    "## The else and elif Clauses"
   ],
   "metadata": {}
  },
  {
   "cell_type": "code",
   "execution_count": 30,
   "source": [
    "x = 20\r\n",
    "\r\n",
    "if x < 50:\r\n",
    "    print('(first suite)')\r\n",
    "    print('x is small')\r\n",
    "else:\r\n",
    "    print('(second suite)')\r\n",
    "    print('x is large')"
   ],
   "outputs": [
    {
     "output_type": "stream",
     "name": "stdout",
     "text": [
      "(first suite)\n",
      "x is small\n"
     ]
    }
   ],
   "metadata": {}
  },
  {
   "cell_type": "code",
   "execution_count": 31,
   "source": [
    "x = 120\r\n",
    "\r\n",
    "if x < 50:\r\n",
    "    print('(first suite)')\r\n",
    "    print('x is small')\r\n",
    "else:\r\n",
    "    print('(second suite)')\r\n",
    "    print('x is large')"
   ],
   "outputs": [
    {
     "output_type": "stream",
     "name": "stdout",
     "text": [
      "(second suite)\n",
      "x is large\n"
     ]
    }
   ],
   "metadata": {}
  },
  {
   "cell_type": "code",
   "execution_count": 32,
   "source": [
    "hargaBuku = 20000\r\n",
    "hargaMajalah = 5000\r\n",
    "uang = 2000\r\n",
    "\r\n",
    "if uang > hargaBuku:\r\n",
    "    print('beli buku')\r\n",
    "else:\r\n",
    "    print('uang tidak cukup')"
   ],
   "outputs": [
    {
     "output_type": "stream",
     "name": "stdout",
     "text": [
      "uang tidak cukup\n"
     ]
    }
   ],
   "metadata": {}
  },
  {
   "cell_type": "code",
   "execution_count": 33,
   "source": [
    "hargaBuku = 20000\r\n",
    "hargaMajalah = 5000\r\n",
    "uang = 2000\r\n",
    "\r\n",
    "if uang > hargaBuku:\r\n",
    "    print('beli buku')\r\n",
    "elif uang > hargaMajalah:\r\n",
    "    print('beli majalah')\r\n",
    "else:\r\n",
    "    print('uang tidak cukup')"
   ],
   "outputs": [
    {
     "output_type": "stream",
     "name": "stdout",
     "text": [
      "uang tidak cukup\n"
     ]
    }
   ],
   "metadata": {}
  },
  {
   "cell_type": "code",
   "execution_count": 34,
   "source": [
    "name = 'Hacktiv8'\r\n",
    "if name == 'Fred':\r\n",
    "    print('Hello Fred')\r\n",
    "elif name == 'Xander':\r\n",
    "    print('Hello Xander')\r\n",
    "elif name == 'Hacktiv8':\r\n",
    "    print('Hello Hacktiv8')\r\n",
    "elif name == 'Arnold':\r\n",
    "    print('Hello Arnold')\r\n",
    "else:\r\n",
    "    print(\"I don't know who you are!\")"
   ],
   "outputs": [
    {
     "output_type": "stream",
     "name": "stdout",
     "text": [
      "Hello Hacktiv8\n"
     ]
    }
   ],
   "metadata": {}
  },
  {
   "cell_type": "code",
   "execution_count": 35,
   "source": [
    "if 'a' in 'bar':\r\n",
    "    print('foo')\r\n",
    "elif 1/0:\r\n",
    "    print(\"This won't happen\")\r\n",
    "elif var:\r\n",
    "    print(\"This won't either\")"
   ],
   "outputs": [
    {
     "output_type": "stream",
     "name": "stdout",
     "text": [
      "foo\n"
     ]
    }
   ],
   "metadata": {}
  },
  {
   "cell_type": "markdown",
   "source": [
    "## One-Line if Statements"
   ],
   "metadata": {}
  },
  {
   "cell_type": "code",
   "execution_count": 36,
   "source": [
    "if 'f' in 'foo': print('1'); print('2'); print('3')"
   ],
   "outputs": [
    {
     "output_type": "stream",
     "name": "stdout",
     "text": [
      "1\n",
      "2\n",
      "3\n"
     ]
    }
   ],
   "metadata": {}
  },
  {
   "cell_type": "code",
   "execution_count": 37,
   "source": [
    "if 'z' in 'foo': print('1'); print('2'); print('3')"
   ],
   "outputs": [],
   "metadata": {}
  },
  {
   "cell_type": "code",
   "execution_count": 38,
   "source": [
    "x = 2\r\n",
    "\r\n",
    "if x == 1: print('foo'); print('bar'); print('baz')\r\n",
    "elif x == 2: print('qux'); print('quux')\r\n",
    "else: print('corge'); print('grault')"
   ],
   "outputs": [
    {
     "output_type": "stream",
     "name": "stdout",
     "text": [
      "qux\n",
      "quux\n"
     ]
    }
   ],
   "metadata": {}
  },
  {
   "cell_type": "code",
   "execution_count": 39,
   "source": [
    "x = 3\r\n",
    "\r\n",
    "if x == 1: print('foo'); print('bar'); print('baz')\r\n",
    "elif x == 2: print('qux'); print('quux')\r\n",
    "else: print('corge'); print('grault')"
   ],
   "outputs": [
    {
     "output_type": "stream",
     "name": "stdout",
     "text": [
      "corge\n",
      "grault\n"
     ]
    }
   ],
   "metadata": {}
  },
  {
   "cell_type": "code",
   "execution_count": 40,
   "source": [
    "# Lebih baik menggunakan cara dibawah, cara diatas tidak disarankan\r\n",
    "x = 3\r\n",
    "\r\n",
    "if x == 1: \r\n",
    "    print('foo')\r\n",
    "    print('bar')\r\n",
    "    print('baz')\r\n",
    "elif x == 2: \r\n",
    "    print('qux')\r\n",
    "    print('quux')\r\n",
    "else: \r\n",
    "    print('corge')\r\n",
    "    print('grault')"
   ],
   "outputs": [
    {
     "output_type": "stream",
     "name": "stdout",
     "text": [
      "corge\n",
      "grault\n"
     ]
    }
   ],
   "metadata": {}
  },
  {
   "cell_type": "markdown",
   "source": [
    "## Conditional Expressions (Python's Ternary Operator)"
   ],
   "metadata": {}
  },
  {
   "cell_type": "code",
   "execution_count": 41,
   "source": [
    "raining = False\r\n",
    "print(\"Let's go to the\", 'beach' if not raining else 'library')"
   ],
   "outputs": [
    {
     "output_type": "stream",
     "name": "stdout",
     "text": [
      "Let's go to the beach\n"
     ]
    }
   ],
   "metadata": {}
  },
  {
   "cell_type": "code",
   "execution_count": 42,
   "source": [
    "raining = True\r\n",
    "print(\"Let's go to the\", 'beach' if not raining else 'library')"
   ],
   "outputs": [
    {
     "output_type": "stream",
     "name": "stdout",
     "text": [
      "Let's go to the library\n"
     ]
    }
   ],
   "metadata": {}
  },
  {
   "cell_type": "code",
   "execution_count": 43,
   "source": [
    "age = 12\r\n",
    "s = 'teen' if age < 21 else 'adult'\r\n",
    "s"
   ],
   "outputs": [
    {
     "output_type": "execute_result",
     "data": {
      "text/plain": [
       "'teen'"
      ]
     },
     "metadata": {},
     "execution_count": 43
    }
   ],
   "metadata": {}
  },
  {
   "cell_type": "code",
   "execution_count": 44,
   "source": [
    "'yes' if ('qux' in ['foo', 'bar', 'baz']) else 'no'"
   ],
   "outputs": [
    {
     "output_type": "execute_result",
     "data": {
      "text/plain": [
       "'no'"
      ]
     },
     "metadata": {},
     "execution_count": 44
    }
   ],
   "metadata": {}
  },
  {
   "cell_type": "code",
   "execution_count": 45,
   "source": [
    "# if standar dengan klausa else\r\n",
    "if ('qux' in ['foo', 'bar', 'baz']):\r\n",
    "    print('yes') \r\n",
    "else: \r\n",
    "    print('no')"
   ],
   "outputs": [
    {
     "output_type": "stream",
     "name": "stdout",
     "text": [
      "no\n"
     ]
    }
   ],
   "metadata": {}
  },
  {
   "cell_type": "markdown",
   "source": [
    "## Nested if else Condition"
   ],
   "metadata": {}
  },
  {
   "cell_type": "code",
   "execution_count": 26,
   "source": [
    "age = 12\r\n",
    "gender = 'M'\r\n",
    "\r\n",
    "if age < 18:\r\n",
    "    if gender == 'M':\r\n",
    "        print('son')\r\n",
    "    else:\r\n",
    "        print('daugther')\r\n",
    "elif age >= 18 and age < 65:\r\n",
    "    if gender == 'M':\r\n",
    "        print('father')\r\n",
    "    else:\r\n",
    "        print('mother')    \r\n",
    "else:\r\n",
    "    if gender == 'M':\r\n",
    "        print('grandfather')\r\n",
    "    else:\r\n",
    "        print('greandmother')"
   ],
   "outputs": [
    {
     "output_type": "stream",
     "name": "stdout",
     "text": [
      "son\n"
     ]
    }
   ],
   "metadata": {}
  },
  {
   "cell_type": "markdown",
   "source": [
    "## The Python pass Statement"
   ],
   "metadata": {}
  },
  {
   "cell_type": "code",
   "execution_count": 46,
   "source": [
    "# if True:\r\n",
    "\r\n",
    "# print('foo')\r\n",
    "# error"
   ],
   "outputs": [],
   "metadata": {}
  },
  {
   "cell_type": "code",
   "execution_count": 47,
   "source": [
    "if True:\r\n",
    "    pass\r\n",
    "print('foo')"
   ],
   "outputs": [
    {
     "output_type": "stream",
     "name": "stdout",
     "text": [
      "foo\n"
     ]
    }
   ],
   "metadata": {}
  },
  {
   "cell_type": "markdown",
   "source": [
    "# Loops"
   ],
   "metadata": {}
  },
  {
   "cell_type": "markdown",
   "source": [
    "## The Python while Loop"
   ],
   "metadata": {}
  },
  {
   "cell_type": "code",
   "execution_count": 48,
   "source": [
    "n = 5\r\n",
    "while n > 0:\r\n",
    "    n -= 1\r\n",
    "    print(n)"
   ],
   "outputs": [
    {
     "output_type": "stream",
     "name": "stdout",
     "text": [
      "4\n",
      "3\n",
      "2\n",
      "1\n",
      "0\n"
     ]
    }
   ],
   "metadata": {}
  },
  {
   "cell_type": "code",
   "execution_count": 49,
   "source": [
    "i = 1\r\n",
    "while i < 6:\r\n",
    "    print(i)\r\n",
    "    i += 1"
   ],
   "outputs": [
    {
     "output_type": "stream",
     "name": "stdout",
     "text": [
      "1\n",
      "2\n",
      "3\n",
      "4\n",
      "5\n"
     ]
    }
   ],
   "metadata": {}
  },
  {
   "cell_type": "markdown",
   "source": [
    "## break and continue Statements"
   ],
   "metadata": {}
  },
  {
   "cell_type": "code",
   "execution_count": 50,
   "source": [
    "n = 5\r\n",
    "while n > 0:\r\n",
    "    n -= 1\r\n",
    "    if n == 2:\r\n",
    "        break # break Statement\r\n",
    "    print(n)\r\n",
    "print('Loop ended.')"
   ],
   "outputs": [
    {
     "output_type": "stream",
     "name": "stdout",
     "text": [
      "4\n",
      "3\n",
      "Loop ended.\n"
     ]
    }
   ],
   "metadata": {}
  },
  {
   "cell_type": "code",
   "execution_count": 51,
   "source": [
    "n = 5\r\n",
    "while n > 0:\r\n",
    "    n -= 1\r\n",
    "    if n == 2:\r\n",
    "        continue # continue Statement\r\n",
    "    print(n)\r\n",
    "print('Loop ended.')"
   ],
   "outputs": [
    {
     "output_type": "stream",
     "name": "stdout",
     "text": [
      "4\n",
      "3\n",
      "1\n",
      "0\n",
      "Loop ended.\n"
     ]
    }
   ],
   "metadata": {}
  },
  {
   "cell_type": "markdown",
   "source": [
    "## The else Clause"
   ],
   "metadata": {}
  },
  {
   "cell_type": "code",
   "execution_count": 52,
   "source": [
    "n = 5\r\n",
    "while n > 0:\r\n",
    "    n -= 1\r\n",
    "    print(n)\r\n",
    "else:\r\n",
    "    print('Loop done.')"
   ],
   "outputs": [
    {
     "output_type": "stream",
     "name": "stdout",
     "text": [
      "4\n",
      "3\n",
      "2\n",
      "1\n",
      "0\n",
      "Loop done.\n"
     ]
    }
   ],
   "metadata": {}
  },
  {
   "cell_type": "code",
   "execution_count": 53,
   "source": [
    "n = 5\r\n",
    "while n > 0:\r\n",
    "    n -= 1\r\n",
    "    print(n)\r\n",
    "    if n == 2: break # klausa else tidak dijalankan\r\n",
    "else:\r\n",
    "    print('Loop done.')"
   ],
   "outputs": [
    {
     "output_type": "stream",
     "name": "stdout",
     "text": [
      "4\n",
      "3\n",
      "2\n"
     ]
    }
   ],
   "metadata": {}
  },
  {
   "cell_type": "markdown",
   "source": [
    "## Infinite Loops"
   ],
   "metadata": {}
  },
  {
   "cell_type": "code",
   "execution_count": 54,
   "source": [
    "# while True:\r\n",
    "#     print('foo')"
   ],
   "outputs": [],
   "metadata": {}
  },
  {
   "cell_type": "markdown",
   "source": [
    "## Nested while Loops"
   ],
   "metadata": {}
  },
  {
   "cell_type": "code",
   "execution_count": 57,
   "source": [
    "a = ['foo', 'bar']\r\n",
    "\r\n",
    "while len(a):\r\n",
    "    print(a.pop(0))\r\n",
    "\r\n",
    "    b = ['baz', 'qux']\r\n",
    "\r\n",
    "    while len(b):\r\n",
    "        print('>', b.pop(0))"
   ],
   "outputs": [
    {
     "output_type": "stream",
     "name": "stdout",
     "text": [
      "foo\n",
      "> baz\n",
      "> qux\n",
      "bar\n",
      "> baz\n",
      "> qux\n"
     ]
    }
   ],
   "metadata": {}
  },
  {
   "cell_type": "markdown",
   "source": [
    "## One-Line while Loops"
   ],
   "metadata": {}
  },
  {
   "cell_type": "code",
   "execution_count": 58,
   "source": [
    "n = 5\r\n",
    "while n > 0: n -= 1; print(n)"
   ],
   "outputs": [
    {
     "output_type": "stream",
     "name": "stdout",
     "text": [
      "4\n",
      "3\n",
      "2\n",
      "1\n",
      "0\n"
     ]
    }
   ],
   "metadata": {}
  },
  {
   "cell_type": "markdown",
   "source": [
    "## The Python for Loop"
   ],
   "metadata": {}
  },
  {
   "cell_type": "code",
   "execution_count": 59,
   "source": [
    "a = ['foo', 'bar', 'baz']\r\n",
    "for i in a:\r\n",
    "    print(i)"
   ],
   "outputs": [
    {
     "output_type": "stream",
     "name": "stdout",
     "text": [
      "foo\n",
      "bar\n",
      "baz\n"
     ]
    }
   ],
   "metadata": {}
  },
  {
   "cell_type": "code",
   "execution_count": 68,
   "source": [
    "d = {'foo': 1, 'bar': 2, 'baz': 3}\r\n",
    "for k in d:\r\n",
    "    print(k)"
   ],
   "outputs": [
    {
     "output_type": "stream",
     "name": "stdout",
     "text": [
      "foo\n",
      "bar\n",
      "baz\n"
     ]
    }
   ],
   "metadata": {}
  },
  {
   "cell_type": "code",
   "execution_count": 61,
   "source": [
    "for k in d:\r\n",
    "    print(d[k])"
   ],
   "outputs": [
    {
     "output_type": "stream",
     "name": "stdout",
     "text": [
      "1\n",
      "2\n",
      "3\n"
     ]
    }
   ],
   "metadata": {}
  },
  {
   "cell_type": "code",
   "execution_count": 70,
   "source": [
    "for k in d.keys():\r\n",
    "    print(k)"
   ],
   "outputs": [
    {
     "output_type": "stream",
     "name": "stdout",
     "text": [
      "foo\n",
      "bar\n",
      "baz\n"
     ]
    }
   ],
   "metadata": {}
  },
  {
   "cell_type": "code",
   "execution_count": 69,
   "source": [
    "for k in d.values():\r\n",
    "    print(k)"
   ],
   "outputs": [
    {
     "output_type": "stream",
     "name": "stdout",
     "text": [
      "1\n",
      "2\n",
      "3\n"
     ]
    }
   ],
   "metadata": {}
  },
  {
   "cell_type": "code",
   "execution_count": 71,
   "source": [
    "for k, v in d.items():\r\n",
    "    print(k, ':', v)"
   ],
   "outputs": [
    {
     "output_type": "stream",
     "name": "stdout",
     "text": [
      "foo : 1\n",
      "bar : 2\n",
      "baz : 3\n"
     ]
    }
   ],
   "metadata": {}
  },
  {
   "cell_type": "markdown",
   "source": [
    "## Iterating Through a Dictionary"
   ],
   "metadata": {}
  },
  {
   "cell_type": "code",
   "execution_count": 93,
   "source": [
    "d = {'foo': 1, 'bar': 2, 'baz': 3}\r\n",
    "# print(list(d.keys())[0])\r\n",
    "for k in d:\r\n",
    "    print(k) # print keys di dictionary"
   ],
   "outputs": [
    {
     "output_type": "stream",
     "name": "stdout",
     "text": [
      "foo\n",
      "bar\n",
      "baz\n"
     ]
    }
   ],
   "metadata": {}
  },
  {
   "cell_type": "code",
   "execution_count": null,
   "source": [],
   "outputs": [],
   "metadata": {}
  },
  {
   "cell_type": "code",
   "execution_count": 75,
   "source": [
    "# bisa pake cara ini juga\r\n",
    "for k in d.keys():\r\n",
    "    print(k)"
   ],
   "outputs": [
    {
     "output_type": "stream",
     "name": "stdout",
     "text": [
      "foo\n",
      "bar\n",
      "baz\n"
     ]
    }
   ],
   "metadata": {}
  },
  {
   "cell_type": "code",
   "execution_count": 74,
   "source": [
    "for k in d:\r\n",
    "    print(d[k]) # print values di dictionary"
   ],
   "outputs": [
    {
     "output_type": "stream",
     "name": "stdout",
     "text": [
      "1\n",
      "2\n",
      "3\n"
     ]
    }
   ],
   "metadata": {}
  },
  {
   "cell_type": "code",
   "execution_count": 76,
   "source": [
    "# bisa pake cara ini juga\r\n",
    "for v in d.values():\r\n",
    "    print(v)"
   ],
   "outputs": [
    {
     "output_type": "stream",
     "name": "stdout",
     "text": [
      "1\n",
      "2\n",
      "3\n"
     ]
    }
   ],
   "metadata": {}
  },
  {
   "cell_type": "markdown",
   "source": [
    "## The range() Function"
   ],
   "metadata": {}
  },
  {
   "cell_type": "code",
   "execution_count": 77,
   "source": [
    "for n in (0, 1, 2, 3, 4):\r\n",
    "    print(n)"
   ],
   "outputs": [
    {
     "output_type": "stream",
     "name": "stdout",
     "text": [
      "0\n",
      "1\n",
      "2\n",
      "3\n",
      "4\n"
     ]
    }
   ],
   "metadata": {}
  },
  {
   "cell_type": "code",
   "execution_count": 98,
   "source": [
    "# x = range(start, end, kelipatan)\r\n",
    "# x = range(2, 5)\r\n",
    "# x = range(2, 20, 3)\r\n",
    "# x = range(20, 2, -3)\r\n",
    "x = range(5)\r\n",
    "for n in x:\r\n",
    "    print(n)"
   ],
   "outputs": [
    {
     "output_type": "stream",
     "name": "stdout",
     "text": [
      "0\n",
      "1\n",
      "2\n",
      "3\n",
      "4\n"
     ]
    }
   ],
   "metadata": {}
  },
  {
   "cell_type": "markdown",
   "source": [
    "## break and continue Statements"
   ],
   "metadata": {}
  },
  {
   "cell_type": "code",
   "execution_count": 79,
   "source": [
    "for i in ['foo', 'baz', 'qux']:\r\n",
    "    if 'b' in i:\r\n",
    "        break\r\n",
    "    print(i)"
   ],
   "outputs": [
    {
     "output_type": "stream",
     "name": "stdout",
     "text": [
      "foo\n"
     ]
    }
   ],
   "metadata": {}
  },
  {
   "cell_type": "code",
   "execution_count": 80,
   "source": [
    "for i in ['foo', 'baz', 'qux']:\r\n",
    "    if 'b' in i:\r\n",
    "        continue\r\n",
    "    print(i)"
   ],
   "outputs": [
    {
     "output_type": "stream",
     "name": "stdout",
     "text": [
      "foo\n",
      "qux\n"
     ]
    }
   ],
   "metadata": {}
  },
  {
   "cell_type": "markdown",
   "source": [
    "## The else Clause"
   ],
   "metadata": {}
  },
  {
   "cell_type": "code",
   "execution_count": 84,
   "source": [
    "for i in ['foo', 'bar', 'baz', 'qux']:\r\n",
    "    print(i)\r\n",
    "else:\r\n",
    "    print('Done.') # will execute"
   ],
   "outputs": [
    {
     "output_type": "stream",
     "name": "stdout",
     "text": [
      "foo\n",
      "bar\n",
      "baz\n",
      "qux\n",
      "Done.\n"
     ]
    }
   ],
   "metadata": {}
  },
  {
   "cell_type": "code",
   "execution_count": 83,
   "source": [
    "for i in ['foo', 'bar', 'baz', 'qux']:\r\n",
    "    if i == 'bar':\r\n",
    "        break\r\n",
    "    print(i)\r\n",
    "else:\r\n",
    "    print('Done.') # will not execute"
   ],
   "outputs": [
    {
     "output_type": "stream",
     "name": "stdout",
     "text": [
      "foo\n"
     ]
    }
   ],
   "metadata": {}
  },
  {
   "cell_type": "code",
   "execution_count": 99,
   "source": [
    "temp = input(\"Ketikan temperatur yang ingin dikonversi, eg. 45F, 120C: \")\r\n",
    "degree = int(temp[:-1])\r\n",
    "i_convertion = temp[-1]\r\n",
    "\r\n",
    "if i_convertion == \"C\":\r\n",
    "    result = int(round((9 * degree) / 5 + 32))\r\n",
    "elif i_convertion == \"F\":\r\n",
    "    result = int(round((degree - 32) * 5 / 9))\r\n",
    "else:\r\n",
    "    print(\"Masukan input yang benar\")\r\n",
    "\r\n",
    "print(\"Temperaturnya adalah\", result, \"derajat\")"
   ],
   "outputs": [
    {
     "output_type": "stream",
     "name": "stdout",
     "text": [
      "Temperaturnya adalah 7 derajat\n"
     ]
    }
   ],
   "metadata": {}
  },
  {
   "cell_type": "code",
   "execution_count": 100,
   "source": [
    "while True:\r\n",
    "    msg = input(\"Ketikan karakter: \").lower()\r\n",
    "    print(msg)\r\n",
    "    if msg == \"stop\":\r\n",
    "        break"
   ],
   "outputs": [
    {
     "output_type": "stream",
     "name": "stdout",
     "text": [
      "stop\n"
     ]
    }
   ],
   "metadata": {}
  }
 ],
 "metadata": {
  "orig_nbformat": 4,
  "language_info": {
   "name": "python",
   "version": "3.9.13",
   "mimetype": "text/x-python",
   "codemirror_mode": {
    "name": "ipython",
    "version": 3
   },
   "pygments_lexer": "ipython3",
   "nbconvert_exporter": "python",
   "file_extension": ".py"
  },
  "kernelspec": {
   "name": "python3",
   "display_name": "Python 3.9.13 64-bit ('base': conda)"
  },
  "interpreter": {
   "hash": "fe6d48a06cf1965613c5c4b5d21b1182ca2e59212f354219b1b23c436410da45"
  }
 },
 "nbformat": 4,
 "nbformat_minor": 2
}